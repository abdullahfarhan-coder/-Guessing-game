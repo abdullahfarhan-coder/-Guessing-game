{
 "cells": [
  {
   "cell_type": "code",
   "execution_count": 2,
   "id": "cc7ce281-06e0-4af6-a05c-0856329ee05d",
   "metadata": {},
   "outputs": [],
   "source": [
    "from tkinter import*\n",
    "import tkinter as tk\n",
    "\n",
    "window = tk.Tk()\n",
    "window.title('GUI')\n",
    "window.configure(bg='red')\n",
    "window.geometry('400x500')\n",
    "\n",
    "l1 = Label(window,text='hello',bg='orange',fg='brown',font=('algerian',24,'italic'))\n",
    "l1.pack(fill=X)\n",
    "\n",
    "l2 = Label(window,text='welcome to my gui',bg='yellow',fg='brown',font=('arial',24,'italic'))\n",
    "l2.pack(fill=X)\n",
    "\n",
    "window.mainloop()"
   ]
  },
  {
   "cell_type": "code",
   "execution_count": 3,
   "id": "ae1f7df6-4008-4af0-9761-f7edcc3e530f",
   "metadata": {},
   "outputs": [],
   "source": [
    "from tkinter import*\n",
    "import tkinter as tk\n",
    "\n",
    "gui = tk.Tk()\n",
    "gui.geometry('400x500')\n",
    "\n",
    "def button1():\n",
    "    l.configure(text='hello there!!')\n",
    "\n",
    "l = Label(gui,text='welcome',font=('arial',24,'bold'))\n",
    "l.grid(row=0,column=0)\n",
    "\n",
    "b1 = Button(gui,text='Enter',bg='red',fg='white',bd=5,command=button1)\n",
    "b1.grid(row=1,column=0)\n",
    "\n",
    "gui.mainloop()"
   ]
  },
  {
   "cell_type": "code",
   "execution_count": 6,
   "id": "8ff2994b-b647-4b81-be09-60a752f97479",
   "metadata": {},
   "outputs": [],
   "source": [
    "from tkinter import*\n",
    "import tkinter as tk\n",
    "\n",
    "game = tk.Tk()\n",
    "game.geometry('400x500')\n",
    "\n",
    "def button1():\n",
    "    b1.configure(text='22')\n",
    "    b1.configure(bg='red')\n",
    "    l.configure(text=\"you lose\")\n",
    "def button2():\n",
    "    b2.configure(text='33')\n",
    "    b2.configure(bg='red')\n",
    "    l.configure(text=\"you lose\")\n",
    "def button3():\n",
    "    b3.configure(text='44')\n",
    "    b3.configure(bg='green')\n",
    "    l.configure(text=\"you won\")\n",
    "\n",
    "l= Label(game,text='guess the number',font=('arial',24,'bold'))\n",
    "l.grid(row=0,column=0)\n",
    "b1 = Button(game,text='guess the number ',bg='red',fg='white',bd=5,command=button1)\n",
    "b1.grid(row=1,column=1)\n",
    "b2 = Button(game,text='guess the number ',bg='red',fg='white',bd=5,command=button2)\n",
    "b2.grid(row=2,column=1)\n",
    "b3 = Button(game,text='guess the number ',bg='red',fg='white',bd=5,command=button3)\n",
    "b3.grid(row=3,column=1)\n",
    "\n",
    "gui.mainloop()"
   ]
  },
  {
   "cell_type": "code",
   "execution_count": null,
   "id": "7b8d1dab-6ebe-4aa5-a11d-8f7cd0e0dd9d",
   "metadata": {},
   "outputs": [],
   "source": []
  },
  {
   "cell_type": "code",
   "execution_count": null,
   "id": "c6a0388e-3902-4721-9865-1a26faf82e11",
   "metadata": {},
   "outputs": [],
   "source": []
  }
 ],
 "metadata": {
  "kernelspec": {
   "display_name": "Python 3 (ipykernel)",
   "language": "python",
   "name": "python3"
  },
  "language_info": {
   "codemirror_mode": {
    "name": "ipython",
    "version": 3
   },
   "file_extension": ".py",
   "mimetype": "text/x-python",
   "name": "python",
   "nbconvert_exporter": "python",
   "pygments_lexer": "ipython3",
   "version": "3.11.4"
  }
 },
 "nbformat": 4,
 "nbformat_minor": 5
}
